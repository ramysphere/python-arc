{
  "nbformat": 4,
  "nbformat_minor": 0,
  "metadata": {
    "colab": {
      "provenance": [],
      "authorship_tag": "ABX9TyPsBAsT/H66c1TTmwrgHlSg",
      "include_colab_link": true
    },
    "kernelspec": {
      "name": "python3",
      "display_name": "Python 3"
    },
    "language_info": {
      "name": "python"
    }
  },
  "cells": [
    {
      "cell_type": "markdown",
      "metadata": {
        "id": "view-in-github",
        "colab_type": "text"
      },
      "source": [
        "<a href=\"https://colab.research.google.com/github/ramysphere/python-arc/blob/main/python_data_structures(ism4300).ipynb\" target=\"_parent\"><img src=\"https://colab.research.google.com/assets/colab-badge.svg\" alt=\"Open In Colab\"/></a>"
      ]
    },
    {
      "cell_type": "code",
      "source": [
        "import pandas as pd\n",
        "user_input = int (input (\"Enter an integar greater than 0: \"))"
      ],
      "metadata": {
        "colab": {
          "base_uri": "https://localhost:8080/"
        },
        "id": "lIYclJPeEZim",
        "outputId": "a44e692b-8632-4529-9a32-c7b223537f66"
      },
      "execution_count": null,
      "outputs": [
        {
          "name": "stdout",
          "output_type": "stream",
          "text": [
            "Enter an integar greater than 0: 5\n"
          ]
        }
      ]
    },
    {
      "cell_type": "code",
      "source": [
        "even = []\n",
        "odd = []\n",
        "fibonacci = [0,1]\n",
        "if user_input > 0:\n",
        "  for i in range(user_input):\n",
        "    even.append(2*i)\n",
        "    odd.append(2*i + 1)\n",
        "    if i > 1:fibonacci.append(fibonacci[i-1]+fibonacci[i-2])\n",
        "\n",
        "else: print(\"Enter integer greater than 0\")\n",
        "\n",
        "print(pd.DataFrame({'Even' :even, 'Odd':odd, 'fibo' :fibonacci}))\n"
      ],
      "metadata": {
        "colab": {
          "base_uri": "https://localhost:8080/"
        },
        "id": "bSngnyQsrMMw",
        "outputId": "21ddc9ae-70db-4936-c8d2-d5d240dca026"
      },
      "execution_count": null,
      "outputs": [
        {
          "output_type": "stream",
          "name": "stdout",
          "text": [
            "   Even  Odd  fibo\n",
            "0     0    1     0\n",
            "1     2    3     1\n",
            "2     4    5     1\n",
            "3     6    7     2\n",
            "4     8    9     3\n"
          ]
        }
      ]
    }
  ]
}