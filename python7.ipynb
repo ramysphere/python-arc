{
  "nbformat": 4,
  "nbformat_minor": 0,
  "metadata": {
    "colab": {
      "provenance": [],
      "authorship_tag": "ABX9TyO7ZRZLHUAJ/kq07X82LnN0",
      "include_colab_link": true
    },
    "kernelspec": {
      "name": "python3",
      "display_name": "Python 3"
    },
    "language_info": {
      "name": "python"
    }
  },
  "cells": [
    {
      "cell_type": "markdown",
      "metadata": {
        "id": "view-in-github",
        "colab_type": "text"
      },
      "source": [
        "<a href=\"https://colab.research.google.com/github/ramysphere/python-arc/blob/main/python7.ipynb\" target=\"_parent\"><img src=\"https://colab.research.google.com/assets/colab-badge.svg\" alt=\"Open In Colab\"/></a>"
      ]
    },
    {
      "cell_type": "code",
      "source": [
        "import numpy as np"
      ],
      "metadata": {
        "id": "rMLrAlNE7UYn"
      },
      "execution_count": 49,
      "outputs": []
    },
    {
      "cell_type": "code",
      "source": [
        "def method_1(user_input):\n",
        "  out = []\n",
        "  for i in range(user_input):\n",
        "    out.append(np.random.randint(10, 50))\n",
        "  return out\n",
        "\n",
        "def method_2(list1):\n",
        "  sum = 0\n",
        "  for i in list1:\n",
        "    sum = sum + i\n",
        "  return sum"
      ],
      "metadata": {
        "id": "mzD5Zi2ZZVaX"
      },
      "execution_count": 50,
      "outputs": []
    },
    {
      "cell_type": "code",
      "source": [
        "while True:\n",
        "  user_input = int(input(\"Enter a value between 5 and 15: \"))\n",
        "  if user_input >15:\n",
        "    print(\"Sorry, enter an integer equal to or less than 15, Try again\")\n",
        "  elif user_input <5:\n",
        "    print(\"Sorry, enter integer equal to or greater than 5, Try again\")\n",
        "  elif user_input >= 5 and user_input <= 15:\n",
        "    print(\"Valid input\")\n",
        "    break\n",
        "\n",
        "print(\"The values of the arrays are: {}\".format(method_1(user_input)))\n",
        "print(\"The sum is: {}\".format(method_2(method_1(user_input))))\n"
      ],
      "metadata": {
        "colab": {
          "base_uri": "https://localhost:8080/"
        },
        "id": "6rhYGnuabx4h",
        "outputId": "c81604c7-3e44-48c0-e9f9-3c463348cc3f"
      },
      "execution_count": 53,
      "outputs": [
        {
          "output_type": "stream",
          "name": "stdout",
          "text": [
            "Enter a value between 5 and 15: 3\n",
            "Sorry, enter integer equal to or greater than 5, Try again\n",
            "Enter a value between 5 and 15: 4\n",
            "Sorry, enter integer equal to or greater than 5, Try again\n",
            "Enter a value between 5 and 15: 6\n",
            "Valid input\n",
            "The values of the arrays are: [30, 12, 34, 35, 43, 36]\n",
            "The sum is: 172\n"
          ]
        }
      ]
    }
  ]
}